{
 "cells": [
  {
   "cell_type": "markdown",
   "id": "589ba366-27a0-4d1a-a288-cc8c1d1ae044",
   "metadata": {},
   "source": [
    "# Homework 1\n",
    "\n",
    "## Exercises\n",
    "\r",
    "1. **Working with the following set of Integers S =\r",
    "{0,1,2,3,4,5,6}\r",
    "What is:**\n",
    "\r",
    "    1. **4 + 4**\r\n",
    "    2. **3 x 5**\r\n",
    "    3. **what is the inverse of 3 ?**\n",
    "<br></br>\n",
    "2. **For S = {0,1,2,3,4,5,6} ; Can we consider 'S' and the operation '+' to be a group ?**\r\n",
    "<br></br>\n",
    "\n",
    "3. **What is -13 mod 5 ?**\r\n",
    "<br></br>\n",
    "\n",
    "4. **Polynomials\r",
    "For the polynomial <span style=\"background-color: #FFFF00\">\\x<sup>3</sup> - x<sup>2</sup> + 4x - 12 = 0 \\ </span>.**\r\n",
    "\n",
    "    1. **Find a the positive root ?**\r\n",
    "    2. **What is the degree of this polynomial ?**"
   ]
  },
  {
   "cell_type": "markdown",
   "id": "079f22e4-a52a-4a45-8430-62878ca9cd4b",
   "metadata": {},
   "source": [
    "## Exercise 1\n",
    "#### a) \n",
    "4 + 4 = 8 mod 7 = 1 \n",
    "#### b) \n",
    "3X15 = 15 mod 7 = 1\n",
    "#### c.1) \n",
    "multiplicative inverse: 3<sup>-1</sup> = 3 <sup>5</sup> = 243 mod 7 = 5\n",
    "#### c.2) \n",
    "additive inverse: 3 + 4 = 7 = 0 ; the additive inverse is 4 therefore "
   ]
  },
  {
   "cell_type": "code",
   "execution_count": 4,
   "id": "377efff4-7679-4a33-b33b-675d6fbf5cdc",
   "metadata": {},
   "outputs": [
    {
     "data": {
      "text/plain": [
       "5"
      ]
     },
     "execution_count": 4,
     "metadata": {},
     "output_type": "execute_result"
    }
   ],
   "source": [
    "#for the multiplicative inverse\n",
    "result = 243 % 7\n",
    "result"
   ]
  },
  {
   "cell_type": "markdown",
   "id": "e114da32-bda9-4b49-8416-d59c1fe34da2",
   "metadata": {},
   "source": [
    "## Exercise 2\n",
    "\n",
    "For considering **S** to and the + operation a group we need to have four properties established.\n",
    "\n",
    "1. *Closure*\n",
    "\n",
    "2. *Associativity* \n",
    "\n",
    "3. *Identity Element*\n",
    "\n",
    "4. *Inverse Element*\n",
    "\n",
    "As briefly displayed in Exercise 1 we can note that if we consider **S** to be a Finite group we have those four properties therefore **S** and the addition operation can be considered a Group if we respect Finite Group ordinary addition rules "
   ]
  },
  {
   "cell_type": "markdown",
   "id": "0b751064-ec2f-4549-b652-a6233e8d037f",
   "metadata": {},
   "source": [
    "## Exercise 3\n"
   ]
  },
  {
   "cell_type": "code",
   "execution_count": 6,
   "id": "ce1ad1fd-8b0d-4b7d-beb8-dd581333ce36",
   "metadata": {},
   "outputs": [
    {
     "data": {
      "text/plain": [
       "2"
      ]
     },
     "execution_count": 6,
     "metadata": {},
     "output_type": "execute_result"
    }
   ],
   "source": [
    "# -13 mod 5; The modulus of a negative number is found by ignoring the minus sign, as proved below:\n",
    "result = -13 % 5\n",
    "result"
   ]
  },
  {
   "cell_type": "markdown",
   "id": "f799e066-328b-495c-88d7-b76081da661d",
   "metadata": {},
   "source": [
    "## Exercise 4\n",
    "#### a) \n",
    "Given the polynomial: <span style=\"background-color: #FFFF00\">\\x<sup>3</sup> - x<sup>2</sup> + 4x - 12 = 0 \\ </span>, we can factor it such as &rarr; <span style=\"background-color: #FFFF00\">\\(x-2)*(x<sup>2</sup> + x + 6) = 0 </span> \n",
    "\n",
    "Therefore x = 2; If you run the above polynomials it will prove to be a positive root.\n",
    "\n",
    "#### b)\n",
    "The above polynomial is of the third order, as one can note 3 is its higher exponential\n",
    "\n",
    "\n",
    "\n"
   ]
  },
  {
   "cell_type": "code",
   "execution_count": 9,
   "id": "2dd31a87-50f1-4dcc-a676-8f7379572b9e",
   "metadata": {},
   "outputs": [
    {
     "data": {
      "text/plain": [
       "0"
      ]
     },
     "execution_count": 9,
     "metadata": {},
     "output_type": "execute_result"
    }
   ],
   "source": [
    "#Proof for a\n",
    "x = 2;\n",
    "result = x**3 - x**2 + 4*x - 12;\n",
    "result"
   ]
  }
 ],
 "metadata": {
  "kernelspec": {
   "display_name": "Python 3 (ipykernel)",
   "language": "python",
   "name": "python3"
  },
  "language_info": {
   "codemirror_mode": {
    "name": "ipython",
    "version": 3
   },
   "file_extension": ".py",
   "mimetype": "text/x-python",
   "name": "python",
   "nbconvert_exporter": "python",
   "pygments_lexer": "ipython3",
   "version": "3.9.6"
  }
 },
 "nbformat": 4,
 "nbformat_minor": 5
}
